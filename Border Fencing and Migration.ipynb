{
 "cells": [
  {
   "cell_type": "markdown",
   "id": "291f57b5",
   "metadata": {},
   "source": [
    "## Causal Inference Project: Economic Consequences of Immigration Policy and Enforcement"
   ]
  },
  {
   "cell_type": "code",
   "execution_count": 1,
   "id": "c147a6ae",
   "metadata": {},
   "outputs": [
    {
     "name": "stdout",
     "output_type": "stream",
     "text": [
      "Requirement already satisfied: pyreadstat in c:\\users\\andre\\anaconda3\\lib\\site-packages (1.2.1)\n",
      "Requirement already satisfied: pandas>=1.2.0 in c:\\users\\andre\\anaconda3\\lib\\site-packages (from pyreadstat) (1.4.4)\n",
      "Requirement already satisfied: pytz>=2020.1 in c:\\users\\andre\\anaconda3\\lib\\site-packages (from pandas>=1.2.0->pyreadstat) (2022.1)\n",
      "Requirement already satisfied: python-dateutil>=2.8.1 in c:\\users\\andre\\anaconda3\\lib\\site-packages (from pandas>=1.2.0->pyreadstat) (2.8.2)\n",
      "Requirement already satisfied: numpy>=1.18.5 in c:\\users\\andre\\anaconda3\\lib\\site-packages (from pandas>=1.2.0->pyreadstat) (1.21.5)\n",
      "Requirement already satisfied: six>=1.5 in c:\\users\\andre\\anaconda3\\lib\\site-packages (from python-dateutil>=2.8.1->pandas>=1.2.0->pyreadstat) (1.16.0)\n"
     ]
    }
   ],
   "source": [
    "!pip install pyreadstat"
   ]
  },
  {
   "cell_type": "code",
   "execution_count": 157,
   "id": "f7087084",
   "metadata": {},
   "outputs": [],
   "source": [
    "import pyreadstat\n",
    "import pandas as pd\n",
    "import os\n",
    "import math\n",
    "from patsy import dmatrices\n",
    "\n",
    "from sklearn.linear_model import LinearRegression\n",
    "import statsmodels.api as smf\n",
    "from statsmodels.iolib.summary2 import summary_col"
   ]
  },
  {
   "cell_type": "code",
   "execution_count": 158,
   "id": "fbd1ba1b",
   "metadata": {},
   "outputs": [],
   "source": [
    "os.chdir(r\"C:\\Users\\andre\\OneDrive\\Desktop\\Economic Data Science\\Border Fencing, Migrant Flows, and Crossing Deaths\")"
   ]
  },
  {
   "cell_type": "code",
   "execution_count": 159,
   "id": "d05503bb",
   "metadata": {},
   "outputs": [],
   "source": [
    "dtafile1 = \"AEAPP.dta\"\n",
    "df1, meta = pyreadstat.read_dta(dtafile1)\n",
    "\n",
    "dtafile2 = \"aggregate_apprehensions_death_by_year.dta\"\n",
    "df2, meta = pyreadstat.read_dta(dtafile2)\n",
    "\n",
    "dtafile3 = \"fencing_by_year.dta\"\n",
    "df3, meta = pyreadstat.read_dta(dtafile3)"
   ]
  },
  {
   "cell_type": "code",
   "execution_count": 160,
   "id": "56c75e9f",
   "metadata": {},
   "outputs": [],
   "source": [
    "sectors = [1,2,3,4,5,9]\n",
    "fenced_list = []\n",
    "\n",
    "for item, row in df1.iterrows():\n",
    "    if row['sector_number'] in sectors:\n",
    "        fenced_list.append(1)\n",
    "    else:\n",
    "        fenced_list.append(0)\n",
    "        \n",
    "df1['fenced'] = fenced_list"
   ]
  },
  {
   "cell_type": "code",
   "execution_count": 161,
   "id": "019a1352",
   "metadata": {},
   "outputs": [],
   "source": [
    "year_list = []\n",
    "\n",
    "for item, row in df1.iterrows():\n",
    "    if row['year'] >= 2006:\n",
    "        year_list.append(1)\n",
    "    else:\n",
    "        year_list.append(0)\n",
    "        \n",
    "df1['sfa'] = year_list"
   ]
  },
  {
   "cell_type": "code",
   "execution_count": 162,
   "id": "44a7a56a",
   "metadata": {},
   "outputs": [],
   "source": [
    "list_interaction = []\n",
    "\n",
    "for item, row in df1.iterrows():\n",
    "    interaction = row['fenced']*row['sfa']\n",
    "    list_interaction.append(interaction)\n",
    "    \n",
    "df1['fencedXsfa'] = list_interaction"
   ]
  },
  {
   "cell_type": "code",
   "execution_count": 163,
   "id": "4ddef19f",
   "metadata": {},
   "outputs": [],
   "source": [
    "lnapp_list = []\n",
    "\n",
    "for item, row in df1.iterrows():\n",
    "    try:\n",
    "        lnapp_list.append(math.log(int(row['apprehensions'])))\n",
    "    except:\n",
    "        lnapp_list.append(None)\n",
    "        \n",
    "df1['lnapp'] = lnapp_list"
   ]
  },
  {
   "cell_type": "code",
   "execution_count": 164,
   "id": "60d9990f",
   "metadata": {},
   "outputs": [],
   "source": [
    "deaths100k_list = []\n",
    "\n",
    "for item, row in df1.iterrows():\n",
    "    try:\n",
    "        val = (row['deaths']/row['apprehensions'])*100000\n",
    "        deaths100k_list.append(val)\n",
    "    except:\n",
    "        deaths100k.append(None)\n",
    "\n",
    "df1['deathsper100k'] = deaths100k_list"
   ]
  },
  {
   "cell_type": "code",
   "execution_count": 194,
   "id": "9b7102e0",
   "metadata": {},
   "outputs": [],
   "source": [
    "df1['lagstaff'] = df1['staff'].shift(1)"
   ]
  },
  {
   "cell_type": "code",
   "execution_count": 166,
   "id": "65197d0d",
   "metadata": {},
   "outputs": [
    {
     "data": {
      "text/html": [
       "<div>\n",
       "<style scoped>\n",
       "    .dataframe tbody tr th:only-of-type {\n",
       "        vertical-align: middle;\n",
       "    }\n",
       "\n",
       "    .dataframe tbody tr th {\n",
       "        vertical-align: top;\n",
       "    }\n",
       "\n",
       "    .dataframe thead th {\n",
       "        text-align: right;\n",
       "    }\n",
       "</style>\n",
       "<table border=\"1\" class=\"dataframe\">\n",
       "  <thead>\n",
       "    <tr style=\"text-align: right;\">\n",
       "      <th></th>\n",
       "      <th>sector_number</th>\n",
       "      <th>year</th>\n",
       "      <th>sector_name</th>\n",
       "      <th>staff</th>\n",
       "      <th>apprehensions</th>\n",
       "      <th>deaths</th>\n",
       "      <th>months80</th>\n",
       "      <th>fenced</th>\n",
       "      <th>sfa</th>\n",
       "      <th>fencedXsfa</th>\n",
       "      <th>lnapp</th>\n",
       "      <th>deathsper100k</th>\n",
       "      <th>lagstaff</th>\n",
       "    </tr>\n",
       "  </thead>\n",
       "  <tbody>\n",
       "    <tr>\n",
       "      <th>0</th>\n",
       "      <td>1</td>\n",
       "      <td>1992</td>\n",
       "      <td>San Diego</td>\n",
       "      <td>1009</td>\n",
       "      <td>565581</td>\n",
       "      <td>NaN</td>\n",
       "      <td>NaN</td>\n",
       "      <td>1</td>\n",
       "      <td>0</td>\n",
       "      <td>0</td>\n",
       "      <td>13.245609</td>\n",
       "      <td>NaN</td>\n",
       "      <td>NaN</td>\n",
       "    </tr>\n",
       "    <tr>\n",
       "      <th>1</th>\n",
       "      <td>1</td>\n",
       "      <td>1993</td>\n",
       "      <td>San Diego</td>\n",
       "      <td>992</td>\n",
       "      <td>531689</td>\n",
       "      <td>NaN</td>\n",
       "      <td>NaN</td>\n",
       "      <td>1</td>\n",
       "      <td>0</td>\n",
       "      <td>0</td>\n",
       "      <td>13.183814</td>\n",
       "      <td>NaN</td>\n",
       "      <td>1009</td>\n",
       "    </tr>\n",
       "    <tr>\n",
       "      <th>2</th>\n",
       "      <td>1</td>\n",
       "      <td>1994</td>\n",
       "      <td>San Diego</td>\n",
       "      <td>1290</td>\n",
       "      <td>450152</td>\n",
       "      <td>NaN</td>\n",
       "      <td>NaN</td>\n",
       "      <td>1</td>\n",
       "      <td>0</td>\n",
       "      <td>0</td>\n",
       "      <td>13.017341</td>\n",
       "      <td>NaN</td>\n",
       "      <td>992</td>\n",
       "    </tr>\n",
       "    <tr>\n",
       "      <th>3</th>\n",
       "      <td>1</td>\n",
       "      <td>1995</td>\n",
       "      <td>San Diego</td>\n",
       "      <td>1433</td>\n",
       "      <td>524231</td>\n",
       "      <td>NaN</td>\n",
       "      <td>NaN</td>\n",
       "      <td>1</td>\n",
       "      <td>0</td>\n",
       "      <td>0</td>\n",
       "      <td>13.169688</td>\n",
       "      <td>NaN</td>\n",
       "      <td>1290</td>\n",
       "    </tr>\n",
       "    <tr>\n",
       "      <th>4</th>\n",
       "      <td>1</td>\n",
       "      <td>1996</td>\n",
       "      <td>San Diego</td>\n",
       "      <td>1965</td>\n",
       "      <td>483815</td>\n",
       "      <td>NaN</td>\n",
       "      <td>NaN</td>\n",
       "      <td>1</td>\n",
       "      <td>0</td>\n",
       "      <td>0</td>\n",
       "      <td>13.089458</td>\n",
       "      <td>NaN</td>\n",
       "      <td>1433</td>\n",
       "    </tr>\n",
       "  </tbody>\n",
       "</table>\n",
       "</div>"
      ],
      "text/plain": [
       "   sector_number  year sector_name staff apprehensions deaths months80  \\\n",
       "0              1  1992   San Diego  1009        565581    NaN      NaN   \n",
       "1              1  1993   San Diego   992        531689    NaN      NaN   \n",
       "2              1  1994   San Diego  1290        450152    NaN      NaN   \n",
       "3              1  1995   San Diego  1433        524231    NaN      NaN   \n",
       "4              1  1996   San Diego  1965        483815    NaN      NaN   \n",
       "\n",
       "   fenced  sfa  fencedXsfa      lnapp  deathsper100k lagstaff  \n",
       "0       1    0           0  13.245609            NaN      NaN  \n",
       "1       1    0           0  13.183814            NaN     1009  \n",
       "2       1    0           0  13.017341            NaN      992  \n",
       "3       1    0           0  13.169688            NaN     1290  \n",
       "4       1    0           0  13.089458            NaN     1433  "
      ]
     },
     "execution_count": 166,
     "metadata": {},
     "output_type": "execute_result"
    }
   ],
   "source": [
    "df1.head()"
   ]
  },
  {
   "cell_type": "code",
   "execution_count": 202,
   "id": "7da1e3e8",
   "metadata": {},
   "outputs": [
    {
     "data": {
      "text/html": [
       "<div>\n",
       "<style scoped>\n",
       "    .dataframe tbody tr th:only-of-type {\n",
       "        vertical-align: middle;\n",
       "    }\n",
       "\n",
       "    .dataframe tbody tr th {\n",
       "        vertical-align: top;\n",
       "    }\n",
       "\n",
       "    .dataframe thead th {\n",
       "        text-align: right;\n",
       "    }\n",
       "</style>\n",
       "<table border=\"1\" class=\"dataframe\">\n",
       "  <thead>\n",
       "    <tr style=\"text-align: right;\">\n",
       "      <th></th>\n",
       "      <th>year</th>\n",
       "      <th>months80</th>\n",
       "      <th>fenced</th>\n",
       "      <th>sfa</th>\n",
       "      <th>fencedXsfa</th>\n",
       "      <th>lnapp</th>\n",
       "      <th>deathsper100k</th>\n",
       "      <th>lagstaff</th>\n",
       "    </tr>\n",
       "  </thead>\n",
       "  <tbody>\n",
       "    <tr>\n",
       "      <th>0</th>\n",
       "      <td>1992</td>\n",
       "      <td>NaN</td>\n",
       "      <td>1</td>\n",
       "      <td>0</td>\n",
       "      <td>0</td>\n",
       "      <td>13.245609</td>\n",
       "      <td>NaN</td>\n",
       "      <td>NaN</td>\n",
       "    </tr>\n",
       "    <tr>\n",
       "      <th>1</th>\n",
       "      <td>1993</td>\n",
       "      <td>NaN</td>\n",
       "      <td>1</td>\n",
       "      <td>0</td>\n",
       "      <td>0</td>\n",
       "      <td>13.183814</td>\n",
       "      <td>NaN</td>\n",
       "      <td>1009</td>\n",
       "    </tr>\n",
       "    <tr>\n",
       "      <th>2</th>\n",
       "      <td>1994</td>\n",
       "      <td>NaN</td>\n",
       "      <td>1</td>\n",
       "      <td>0</td>\n",
       "      <td>0</td>\n",
       "      <td>13.017341</td>\n",
       "      <td>NaN</td>\n",
       "      <td>992</td>\n",
       "    </tr>\n",
       "    <tr>\n",
       "      <th>3</th>\n",
       "      <td>1995</td>\n",
       "      <td>NaN</td>\n",
       "      <td>1</td>\n",
       "      <td>0</td>\n",
       "      <td>0</td>\n",
       "      <td>13.169688</td>\n",
       "      <td>NaN</td>\n",
       "      <td>1290</td>\n",
       "    </tr>\n",
       "    <tr>\n",
       "      <th>4</th>\n",
       "      <td>1996</td>\n",
       "      <td>NaN</td>\n",
       "      <td>1</td>\n",
       "      <td>0</td>\n",
       "      <td>0</td>\n",
       "      <td>13.089458</td>\n",
       "      <td>NaN</td>\n",
       "      <td>1433</td>\n",
       "    </tr>\n",
       "    <tr>\n",
       "      <th>...</th>\n",
       "      <td>...</td>\n",
       "      <td>...</td>\n",
       "      <td>...</td>\n",
       "      <td>...</td>\n",
       "      <td>...</td>\n",
       "      <td>...</td>\n",
       "      <td>...</td>\n",
       "      <td>...</td>\n",
       "    </tr>\n",
       "    <tr>\n",
       "      <th>256</th>\n",
       "      <td>2016</td>\n",
       "      <td>5</td>\n",
       "      <td>1</td>\n",
       "      <td>1</td>\n",
       "      <td>1</td>\n",
       "      <td>12.137954</td>\n",
       "      <td>70.652465</td>\n",
       "      <td>3042</td>\n",
       "    </tr>\n",
       "    <tr>\n",
       "      <th>257</th>\n",
       "      <td>2017</td>\n",
       "      <td>5</td>\n",
       "      <td>1</td>\n",
       "      <td>1</td>\n",
       "      <td>1</td>\n",
       "      <td>11.831830</td>\n",
       "      <td>75.602274</td>\n",
       "      <td>3135</td>\n",
       "    </tr>\n",
       "    <tr>\n",
       "      <th>258</th>\n",
       "      <td>2018</td>\n",
       "      <td>5</td>\n",
       "      <td>1</td>\n",
       "      <td>1</td>\n",
       "      <td>1</td>\n",
       "      <td>11.996968</td>\n",
       "      <td>59.163575</td>\n",
       "      <td>3130</td>\n",
       "    </tr>\n",
       "    <tr>\n",
       "      <th>259</th>\n",
       "      <td>2019</td>\n",
       "      <td>5</td>\n",
       "      <td>1</td>\n",
       "      <td>1</td>\n",
       "      <td>1</td>\n",
       "      <td>12.734154</td>\n",
       "      <td>20.345880</td>\n",
       "      <td>3096</td>\n",
       "    </tr>\n",
       "    <tr>\n",
       "      <th>260</th>\n",
       "      <td>2020</td>\n",
       "      <td>5</td>\n",
       "      <td>1</td>\n",
       "      <td>1</td>\n",
       "      <td>1</td>\n",
       "      <td>NaN</td>\n",
       "      <td>NaN</td>\n",
       "      <td>3105</td>\n",
       "    </tr>\n",
       "  </tbody>\n",
       "</table>\n",
       "<p>261 rows × 8 columns</p>\n",
       "</div>"
      ],
      "text/plain": [
       "     year months80  fenced  sfa  fencedXsfa      lnapp  deathsper100k lagstaff\n",
       "0    1992      NaN       1    0           0  13.245609            NaN      NaN\n",
       "1    1993      NaN       1    0           0  13.183814            NaN     1009\n",
       "2    1994      NaN       1    0           0  13.017341            NaN      992\n",
       "3    1995      NaN       1    0           0  13.169688            NaN     1290\n",
       "4    1996      NaN       1    0           0  13.089458            NaN     1433\n",
       "..    ...      ...     ...  ...         ...        ...            ...      ...\n",
       "256  2016        5       1    1           1  12.137954      70.652465     3042\n",
       "257  2017        5       1    1           1  11.831830      75.602274     3135\n",
       "258  2018        5       1    1           1  11.996968      59.163575     3130\n",
       "259  2019        5       1    1           1  12.734154      20.345880     3096\n",
       "260  2020        5       1    1           1        NaN            NaN     3105\n",
       "\n",
       "[261 rows x 8 columns]"
      ]
     },
     "execution_count": 202,
     "metadata": {},
     "output_type": "execute_result"
    }
   ],
   "source": [
    "df = df1.drop(columns = ['sector_number', 'sector_name', 'staff', 'apprehensions', 'deaths'])\n",
    "df"
   ]
  },
  {
   "cell_type": "markdown",
   "id": "ac94c5e9",
   "metadata": {},
   "source": [
    "#### Dataset per regressioni"
   ]
  },
  {
   "cell_type": "code",
   "execution_count": 203,
   "id": "85c68cf9",
   "metadata": {},
   "outputs": [],
   "source": [
    "df_r1 = df[df.year > 1997]\n",
    "df_r1 = df_r1[df_r1.year < 2018]\n",
    "df_r1 = df_r1[df_r1.year != 2006]\n",
    "df_r1 = df_r1[df_r1.year != 2007]\n",
    "df_r1 = df_r1[df_r1.year != 2008]"
   ]
  },
  {
   "cell_type": "code",
   "execution_count": 209,
   "id": "4a7f2f65",
   "metadata": {},
   "outputs": [],
   "source": [
    "months_list = []\n",
    "lstaff_list = []\n",
    "year_strs = []\n",
    "\n",
    "for index, row in df_r1.iterrows():\n",
    "    month = int(row['months80'])\n",
    "    lstaff = float(row['lagstaff'])\n",
    "    year_str = str(row['year'])\n",
    "    \n",
    "    months_list.append(month)\n",
    "    lstaff_list.append(lstaff)\n",
    "    year_strs.append(year_str)\n",
    "    \n",
    "    \n",
    "df_r1['months80'] = months_list\n",
    "df_r1['lagstaff'] = lstaff_list\n",
    "df_r1['year'] = year_strs"
   ]
  },
  {
   "cell_type": "code",
   "execution_count": 210,
   "id": "010de966",
   "metadata": {},
   "outputs": [],
   "source": [
    "df_r1 = df_r1.reset_index()\n",
    "df_r1 = df_r1.drop(columns = ['index'])"
   ]
  },
  {
   "cell_type": "code",
   "execution_count": 211,
   "id": "b1566fda",
   "metadata": {},
   "outputs": [
    {
     "name": "stdout",
     "output_type": "stream",
     "text": [
      "<class 'pandas.core.frame.DataFrame'>\n",
      "RangeIndex: 153 entries, 0 to 152\n",
      "Data columns (total 8 columns):\n",
      " #   Column         Non-Null Count  Dtype  \n",
      "---  ------         --------------  -----  \n",
      " 0   year           153 non-null    object \n",
      " 1   months80       153 non-null    int64  \n",
      " 2   fenced         153 non-null    int64  \n",
      " 3   sfa            153 non-null    int64  \n",
      " 4   fencedXsfa     153 non-null    int64  \n",
      " 5   lnapp          153 non-null    float64\n",
      " 6   deathsper100k  153 non-null    float64\n",
      " 7   lagstaff       153 non-null    float64\n",
      "dtypes: float64(3), int64(4), object(1)\n",
      "memory usage: 9.7+ KB\n"
     ]
    }
   ],
   "source": [
    "df_r1.info()"
   ]
  },
  {
   "cell_type": "markdown",
   "id": "8ea68363",
   "metadata": {},
   "source": [
    "#### regressione 1 - lnapp = c + m1*fenced + m2*sfa + m3*fenced x sfa + err\n",
    "\n",
    "In questa prima parte ho eseguito la prima regressione come specificata nel titolo del paragrafo. Le librerie scelte mi permettono di fittare un Robust Linear Model."
   ]
  },
  {
   "cell_type": "code",
   "execution_count": 139,
   "id": "8714c17d",
   "metadata": {},
   "outputs": [],
   "source": [
    "y1, X1 = dmatrices('lnapp ~ fenced + sfa + fencedXsfa', data=df_r1, return_type='dataframe')"
   ]
  },
  {
   "cell_type": "code",
   "execution_count": 149,
   "id": "e87fe61f",
   "metadata": {},
   "outputs": [
    {
     "name": "stdout",
     "output_type": "stream",
     "text": [
      "                    Robust linear Model Regression Results                    \n",
      "==============================================================================\n",
      "Dep. Variable:                  lnapp   No. Observations:                  153\n",
      "Model:                            RLM   Df Residuals:                      149\n",
      "Method:                          IRLS   Df Model:                            3\n",
      "Norm:                          HuberT                                         \n",
      "Scale Est.:                       mad                                         \n",
      "Cov Type:                          H1                                         \n",
      "Date:                Fri, 12 May 2023                                         \n",
      "Time:                        18:28:13                                         \n",
      "No. Iterations:                    17                                         \n",
      "==============================================================================\n",
      "                 coef    std err          z      P>|z|      [0.025      0.975]\n",
      "------------------------------------------------------------------------------\n",
      "Intercept     10.7373      0.203     52.940      0.000      10.340      11.135\n",
      "fenced         1.1318      0.248      4.556      0.000       0.645       1.619\n",
      "sfa           -1.1088      0.279     -3.978      0.000      -1.655      -0.562\n",
      "fencedXsfa    -0.4250      0.341     -1.245      0.213      -1.094       0.244\n",
      "==============================================================================\n",
      "\n",
      "If the model instance has been used for another fit with different fit parameters, then the fit options might not be the correct ones anymore .\n"
     ]
    }
   ],
   "source": [
    "rlm_mod1= smf.RLM(y1, X1, M=smf.robust.norms.HuberT())\n",
    "rlm_results1 = rlm_mod1.fit()\n",
    "print(rlm_results1.summary())"
   ]
  },
  {
   "cell_type": "markdown",
   "id": "18025a60",
   "metadata": {},
   "source": [
    "#### Regressione 2 - variabili di controllo per temperatura e pattuglie, controllo per esistenza di trend"
   ]
  },
  {
   "cell_type": "code",
   "execution_count": 216,
   "id": "71606f01",
   "metadata": {},
   "outputs": [],
   "source": [
    "y2, X2 = dmatrices('lnapp ~ fenced + sfa + fencedXsfa + months80 + lagstaff + year', data=df_r1, return_type='dataframe')\n",
    "\n",
    "rlm_mod2= smf.RLM(y2, X2, M=smf.robust.norms.HuberT())\n",
    "rlm_results2 = rlm_mod2.fit()"
   ]
  },
  {
   "cell_type": "markdown",
   "id": "1e26dace",
   "metadata": {},
   "source": [
    "#### Regressione 3 - deathsper100k = c + m1*fenced + m2*sfa + m2*fenced X sfa + err"
   ]
  },
  {
   "cell_type": "code",
   "execution_count": 150,
   "id": "c49d021d",
   "metadata": {},
   "outputs": [
    {
     "name": "stdout",
     "output_type": "stream",
     "text": [
      "                    Robust linear Model Regression Results                    \n",
      "==============================================================================\n",
      "Dep. Variable:          deathsper100k   No. Observations:                  153\n",
      "Model:                            RLM   Df Residuals:                      149\n",
      "Method:                          IRLS   Df Model:                            3\n",
      "Norm:                          HuberT                                         \n",
      "Scale Est.:                       mad                                         \n",
      "Cov Type:                          H1                                         \n",
      "Date:                Fri, 12 May 2023                                         \n",
      "Time:                        18:28:27                                         \n",
      "No. Iterations:                    23                                         \n",
      "==============================================================================\n",
      "                 coef    std err          z      P>|z|      [0.025      0.975]\n",
      "------------------------------------------------------------------------------\n",
      "Intercept     28.4435      6.556      4.339      0.000      15.595      41.292\n",
      "fenced        -0.0748      8.029     -0.009      0.993     -15.811      15.662\n",
      "sfa           76.3014      9.010      8.469      0.000      58.643      93.960\n",
      "fencedXsfa   -55.3604     11.035     -5.017      0.000     -76.988     -33.733\n",
      "==============================================================================\n",
      "\n",
      "If the model instance has been used for another fit with different fit parameters, then the fit options might not be the correct ones anymore .\n"
     ]
    }
   ],
   "source": [
    "y3, X3 = dmatrices('deathsper100k ~ fenced + sfa + fencedXsfa', data=df_r1, return_type='dataframe')\n",
    "\n",
    "rlm_mod3= smf.RLM(y3, X3, M=smf.robust.norms.HuberT())\n",
    "rlm_results3 = rlm_mod3.fit()\n",
    "print(rlm_results3.summary())"
   ]
  },
  {
   "cell_type": "markdown",
   "id": "8420614a",
   "metadata": {},
   "source": [
    "#### Regressione 4 - variabili di controllo per temperatura e pattuglie, controllo per esistenza di trend"
   ]
  },
  {
   "cell_type": "code",
   "execution_count": 224,
   "id": "9b93db06",
   "metadata": {},
   "outputs": [],
   "source": [
    "y4, X4 = dmatrices('deathsper100k ~ fenced + sfa + fencedXsfa + months80 + lagstaff + year', data=df_r1, return_type='dataframe')\n",
    "\n",
    "rlm_mod4= smf.RLM(y4, X4, M=smf.robust.norms.HuberT())\n",
    "rlm_results4 = rlm_mod4.fit()"
   ]
  },
  {
   "cell_type": "markdown",
   "id": "f6141ca8",
   "metadata": {},
   "source": [
    "#### TABELLA FINALE"
   ]
  },
  {
   "cell_type": "code",
   "execution_count": 225,
   "id": "631f1f40",
   "metadata": {},
   "outputs": [
    {
     "name": "stdout",
     "output_type": "stream",
     "text": [
      "\n",
      "=====================================================================\n",
      "                lnapp I    lnapp II  deathsper100k I deathsper100k II\n",
      "---------------------------------------------------------------------\n",
      "Intercept      10.7373*** 10.1379*** 28.4435***      -12.2762        \n",
      "               (0.2028)   (0.2731)   (6.5555)        (12.4680)       \n",
      "fenced         1.1318***  0.6249***  -0.0748         -9.5836         \n",
      "               (0.2484)   (0.1718)   (8.0289)        (7.8456)        \n",
      "fencedXsfa     -0.4250    -0.7261*** -55.3604***     -57.5591***     \n",
      "               (0.3414)   (0.2329)   (11.0346)       (10.6349)       \n",
      "lagstaff                  0.0010***                  0.0237***       \n",
      "                          (0.0001)                   (0.0037)        \n",
      "months80                  0.1672***                  7.7609***       \n",
      "                          (0.0314)                   (1.4360)        \n",
      "sfa            -1.1088*** -2.0628*** 76.3014***      54.6719***      \n",
      "               (0.2787)   (0.2622)   (9.0097)        (11.9698)       \n",
      "year[T.1999.0]            -0.0969                    -3.4943         \n",
      "                          (0.3157)                   (14.4169)       \n",
      "year[T.2000.0]            -0.2370                    1.5178          \n",
      "                          (0.3162)                   (14.4383)       \n",
      "year[T.2001.0]            -0.4989                    3.6257          \n",
      "                          (0.3163)                   (14.4412)       \n",
      "year[T.2002.0]            -0.8126**                  5.1873          \n",
      "                          (0.3167)                   (14.4583)       \n",
      "year[T.2003.0]            -0.9067***                 5.4324          \n",
      "                          (0.3169)                   (14.4679)       \n",
      "year[T.2004.0]            -0.7365**                  1.6603          \n",
      "                          (0.3170)                   (14.4719)       \n",
      "year[T.2005.0]            -0.6072*                   15.1449         \n",
      "                          (0.3167)                   (14.4623)       \n",
      "year[T.2009.0]            0.1453                     18.7146*        \n",
      "                          (0.2125)                   (9.7037)        \n",
      "year[T.2010.0]            -0.1263                    -12.7825        \n",
      "                          (0.2124)                   (9.6970)        \n",
      "year[T.2011.0]            -0.3389                    11.5157         \n",
      "                          (0.2128)                   (9.7163)        \n",
      "year[T.2012.0]            -0.3916*                   33.8471***      \n",
      "                          (0.2135)                   (9.7460)        \n",
      "year[T.2013.0]            -0.3370                    3.9310          \n",
      "                          (0.2128)                   (9.7151)        \n",
      "year[T.2014.0]            -0.3417                    -2.5063         \n",
      "                          (0.2128)                   (9.7165)        \n",
      "year[T.2015.0]            -0.4399**                  -1.1678         \n",
      "                          (0.2127)                   (9.7121)        \n",
      "year[T.2016.0]            -0.0373                    -1.0774         \n",
      "                          (0.2124)                   (9.6978)        \n",
      "year[T.2017.0]            -0.1953                    4.1975          \n",
      "                          (0.2125)                   (9.7033)        \n",
      "=====================================================================\n",
      "Standard errors in parentheses.\n",
      "* p<.1, ** p<.05, ***p<.01\n"
     ]
    }
   ],
   "source": [
    "dfoutput = summary_col([rlm_results1, rlm_results2,\n",
    "                        rlm_results3, rlm_results4],stars=True)\n",
    "print(dfoutput)"
   ]
  },
  {
   "cell_type": "markdown",
   "id": "4d18cd30",
   "metadata": {},
   "source": [
    "### Grafici"
   ]
  },
  {
   "cell_type": "code",
   "execution_count": 290,
   "id": "9fece1b0",
   "metadata": {},
   "outputs": [],
   "source": [
    "import matplotlib.pyplot as plt\n",
    "import seaborn as sns"
   ]
  },
  {
   "cell_type": "code",
   "execution_count": 227,
   "id": "09a86ce6",
   "metadata": {},
   "outputs": [],
   "source": [
    "df3 = df3.rename({'total_p_vehicle': 'vehicle_barrier_Permanent',\n",
    "                  'total_t_vehicle': 'vehicle_barrier_Temporary'}, axis=1)"
   ]
  },
  {
   "cell_type": "code",
   "execution_count": 232,
   "id": "f548edbe",
   "metadata": {},
   "outputs": [],
   "source": [
    "lista1 = []\n",
    "\n",
    "for item, row in df3.iterrows():\n",
    "    elem1 = row['total_primary'] + row['total_secondary'] + row['total_tertiary']\n",
    "    lista1.append(elem1)\n",
    "    \n",
    "df3['Pedestrian_Barrier'] = lista1"
   ]
  },
  {
   "cell_type": "code",
   "execution_count": 239,
   "id": "f67a35da",
   "metadata": {},
   "outputs": [],
   "source": [
    "df3['Pedestrian_Barrier_M'] = df3.apply(lambda row: row.Pedestrian_Barrier/5280, axis=1)\n",
    "df3['vehicle_barrier_Temporary_M'] = df3.apply(lambda row: row.vehicle_barrier_Temporary/5280, axis=1)\n",
    "df3['vehicle_barrier_Permanent_M'] = df3.apply(lambda row: row.vehicle_barrier_Permanent/5280, axis=1)"
   ]
  },
  {
   "cell_type": "code",
   "execution_count": 241,
   "id": "5a697f83",
   "metadata": {},
   "outputs": [
    {
     "data": {
      "text/html": [
       "<div>\n",
       "<style scoped>\n",
       "    .dataframe tbody tr th:only-of-type {\n",
       "        vertical-align: middle;\n",
       "    }\n",
       "\n",
       "    .dataframe tbody tr th {\n",
       "        vertical-align: top;\n",
       "    }\n",
       "\n",
       "    .dataframe thead th {\n",
       "        text-align: right;\n",
       "    }\n",
       "</style>\n",
       "<table border=\"1\" class=\"dataframe\">\n",
       "  <thead>\n",
       "    <tr style=\"text-align: right;\">\n",
       "      <th></th>\n",
       "      <th>year</th>\n",
       "      <th>total_primary</th>\n",
       "      <th>total_secondary</th>\n",
       "      <th>total_tertiary</th>\n",
       "      <th>vehicle_barrier_Permanent</th>\n",
       "      <th>vehicle_barrier_Temporary</th>\n",
       "      <th>Pedestrian_Barrier</th>\n",
       "      <th>Pedestrian_Barrier_M</th>\n",
       "      <th>vehicle_barrier_Temporary_M</th>\n",
       "      <th>vehicle_barrier_Permanent_M</th>\n",
       "    </tr>\n",
       "  </thead>\n",
       "  <tbody>\n",
       "    <tr>\n",
       "      <th>0</th>\n",
       "      <td>1992</td>\n",
       "      <td>65157.885265</td>\n",
       "      <td>0.0</td>\n",
       "      <td>0.0</td>\n",
       "      <td>872.65</td>\n",
       "      <td>0.0</td>\n",
       "      <td>65157.885265</td>\n",
       "      <td>12.340509</td>\n",
       "      <td>0.0</td>\n",
       "      <td>0.165275</td>\n",
       "    </tr>\n",
       "    <tr>\n",
       "      <th>1</th>\n",
       "      <td>1993</td>\n",
       "      <td>66259.726467</td>\n",
       "      <td>0.0</td>\n",
       "      <td>0.0</td>\n",
       "      <td>872.65</td>\n",
       "      <td>0.0</td>\n",
       "      <td>66259.726467</td>\n",
       "      <td>12.549191</td>\n",
       "      <td>0.0</td>\n",
       "      <td>0.165275</td>\n",
       "    </tr>\n",
       "    <tr>\n",
       "      <th>2</th>\n",
       "      <td>1994</td>\n",
       "      <td>96554.176723</td>\n",
       "      <td>0.0</td>\n",
       "      <td>0.0</td>\n",
       "      <td>872.65</td>\n",
       "      <td>0.0</td>\n",
       "      <td>96554.176723</td>\n",
       "      <td>18.286776</td>\n",
       "      <td>0.0</td>\n",
       "      <td>0.165275</td>\n",
       "    </tr>\n",
       "    <tr>\n",
       "      <th>3</th>\n",
       "      <td>1995</td>\n",
       "      <td>131820.148067</td>\n",
       "      <td>0.0</td>\n",
       "      <td>0.0</td>\n",
       "      <td>872.65</td>\n",
       "      <td>0.0</td>\n",
       "      <td>131820.148067</td>\n",
       "      <td>24.965937</td>\n",
       "      <td>0.0</td>\n",
       "      <td>0.165275</td>\n",
       "    </tr>\n",
       "    <tr>\n",
       "      <th>4</th>\n",
       "      <td>1996</td>\n",
       "      <td>131858.888245</td>\n",
       "      <td>0.0</td>\n",
       "      <td>0.0</td>\n",
       "      <td>872.65</td>\n",
       "      <td>0.0</td>\n",
       "      <td>131858.888245</td>\n",
       "      <td>24.973274</td>\n",
       "      <td>0.0</td>\n",
       "      <td>0.165275</td>\n",
       "    </tr>\n",
       "  </tbody>\n",
       "</table>\n",
       "</div>"
      ],
      "text/plain": [
       "   year  total_primary  total_secondary  total_tertiary  \\\n",
       "0  1992   65157.885265              0.0             0.0   \n",
       "1  1993   66259.726467              0.0             0.0   \n",
       "2  1994   96554.176723              0.0             0.0   \n",
       "3  1995  131820.148067              0.0             0.0   \n",
       "4  1996  131858.888245              0.0             0.0   \n",
       "\n",
       "   vehicle_barrier_Permanent  vehicle_barrier_Temporary  Pedestrian_Barrier  \\\n",
       "0                     872.65                        0.0        65157.885265   \n",
       "1                     872.65                        0.0        66259.726467   \n",
       "2                     872.65                        0.0        96554.176723   \n",
       "3                     872.65                        0.0       131820.148067   \n",
       "4                     872.65                        0.0       131858.888245   \n",
       "\n",
       "   Pedestrian_Barrier_M  vehicle_barrier_Temporary_M  \\\n",
       "0             12.340509                          0.0   \n",
       "1             12.549191                          0.0   \n",
       "2             18.286776                          0.0   \n",
       "3             24.965937                          0.0   \n",
       "4             24.973274                          0.0   \n",
       "\n",
       "   vehicle_barrier_Permanent_M  \n",
       "0                     0.165275  \n",
       "1                     0.165275  \n",
       "2                     0.165275  \n",
       "3                     0.165275  \n",
       "4                     0.165275  "
      ]
     },
     "execution_count": 241,
     "metadata": {},
     "output_type": "execute_result"
    }
   ],
   "source": [
    "df3.head()"
   ]
  },
  {
   "cell_type": "code",
   "execution_count": 325,
   "id": "4e399583",
   "metadata": {},
   "outputs": [
    {
     "data": {
      "image/png": "[encoded data removed]",
      "text/plain": [
       "<Figure size 900x400 with 1 Axes>"
      ]
     },
     "metadata": {},
     "output_type": "display_data"
    }
   ],
   "source": [
    "fig, ax = plt.subplots(figsize = (9,4))\n",
    "\n",
    "plt.plot(df3.year, df3.Pedestrian_Barrier_M, color = 'black', label = 'Cumulative Pedestrian Barrier - Total')\n",
    "plt.plot(df3.year, df3.vehicle_barrier_Temporary_M, linestyle = 'dashdot', color = 'black', label = 'Cumulative Vehicle Barrier - Temporary')\n",
    "plt.plot(df3.year, df3.vehicle_barrier_Permanent_M, linestyle = 'dashed', color = 'black', label = 'Cumulative Vehicle Barrier - Permanent')\n",
    "\n",
    "plt.axvline(x=2006, ymin=0, ymax=1, color = 'red')\n",
    "\n",
    "plt.title('Cumulative barrier construction by type')\n",
    "plt.xlabel('Year')\n",
    "plt.ylabel('Total Miles Constructed')\n",
    "plt.grid(alpha = 0.3)\n",
    "plt.legend(loc='upper center', bbox_to_anchor=(0.5, -0.2),\n",
    "          fancybox=True, shadow=True, ncol=5)\n",
    "\n",
    "plt.tight_layout()\n",
    "plt.show()"
   ]
  },
  {
   "cell_type": "code",
   "execution_count": 276,
   "id": "28c0c72d",
   "metadata": {},
   "outputs": [
    {
     "data": {
      "text/html": [
       "<div>\n",
       "<style scoped>\n",
       "    .dataframe tbody tr th:only-of-type {\n",
       "        vertical-align: middle;\n",
       "    }\n",
       "\n",
       "    .dataframe tbody tr th {\n",
       "        vertical-align: top;\n",
       "    }\n",
       "\n",
       "    .dataframe thead th {\n",
       "        text-align: right;\n",
       "    }\n",
       "</style>\n",
       "<table border=\"1\" class=\"dataframe\">\n",
       "  <thead>\n",
       "    <tr style=\"text-align: right;\">\n",
       "      <th></th>\n",
       "      <th>year</th>\n",
       "      <th>alldeath</th>\n",
       "      <th>allapprehensions</th>\n",
       "    </tr>\n",
       "  </thead>\n",
       "  <tbody>\n",
       "    <tr>\n",
       "      <th>0</th>\n",
       "      <td>1998</td>\n",
       "      <td>263</td>\n",
       "      <td>1516680</td>\n",
       "    </tr>\n",
       "    <tr>\n",
       "      <th>1</th>\n",
       "      <td>1999</td>\n",
       "      <td>249</td>\n",
       "      <td>1537000</td>\n",
       "    </tr>\n",
       "    <tr>\n",
       "      <th>2</th>\n",
       "      <td>2000</td>\n",
       "      <td>380</td>\n",
       "      <td>1643679</td>\n",
       "    </tr>\n",
       "    <tr>\n",
       "      <th>3</th>\n",
       "      <td>2001</td>\n",
       "      <td>340</td>\n",
       "      <td>1235718</td>\n",
       "    </tr>\n",
       "    <tr>\n",
       "      <th>4</th>\n",
       "      <td>2002</td>\n",
       "      <td>320</td>\n",
       "      <td>929809</td>\n",
       "    </tr>\n",
       "  </tbody>\n",
       "</table>\n",
       "</div>"
      ],
      "text/plain": [
       "   year  alldeath  allapprehensions\n",
       "0  1998       263           1516680\n",
       "1  1999       249           1537000\n",
       "2  2000       380           1643679\n",
       "3  2001       340           1235718\n",
       "4  2002       320            929809"
      ]
     },
     "execution_count": 276,
     "metadata": {},
     "output_type": "execute_result"
    }
   ],
   "source": [
    "df2.head()"
   ]
  },
  {
   "cell_type": "code",
   "execution_count": 330,
   "id": "c2c769ee",
   "metadata": {},
   "outputs": [
    {
     "data": {
      "image/png": "[encoded data removed]",
      "text/plain": [
       "<Figure size 900x400 with 2 Axes>"
      ]
     },
     "metadata": {},
     "output_type": "display_data"
    }
   ],
   "source": [
    "fig, ax = plt.subplots(figsize=(9,4))\n",
    "ax2 = ax.twinx()\n",
    "\n",
    "ax.bar(df2.year, df2.alldeath, label = 'all deaths', alpha = 0.8, color = 'lightblue')\n",
    "\n",
    "ax2.plot(df2.year, df2.allapprehensions, label = 'all apprehensions', color = 'red')\n",
    "\n",
    "# ax.legend(loc = 'upper left')\n",
    "ax.legend(loc='upper center', bbox_to_anchor=(0.35, -0.1),\n",
    "          fancybox=True, shadow=True, ncol=5)\n",
    "ax2.legend(loc='upper center', bbox_to_anchor=(0.65, -0.1),\n",
    "          fancybox=True, shadow=True, ncol=5)\n",
    "\n",
    "ax.yaxis.grid(alpha = 0.5)\n",
    "\n",
    "ax.set_xlabel('Year')\n",
    "ax.set_ylabel(\"Deaths\")\n",
    "ax2.set_ylabel(\"Apprehensions\")\n",
    "plt.tight_layout()\n",
    "\n",
    "plt.show()"
   ]
  }
 ],
 "metadata": {
  "kernelspec": {
   "display_name": "Python 3 (ipykernel)",
   "language": "python",
   "name": "python3"
  },
  "language_info": {
   "codemirror_mode": {
    "name": "ipython",
    "version": 3
   },
   "file_extension": ".py",
   "mimetype": "text/x-python",
   "name": "python",
   "nbconvert_exporter": "python",
   "pygments_lexer": "ipython3",
   "version": "3.9.13"
  }
 },
 "nbformat": 4,
 "nbformat_minor": 5
}
